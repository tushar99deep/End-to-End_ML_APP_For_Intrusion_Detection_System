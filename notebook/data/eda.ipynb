{
 "cells": [
  {
   "cell_type": "code",
   "execution_count": 2,
   "metadata": {},
   "outputs": [],
   "source": [
    "import pandas as pd"
   ]
  },
  {
   "cell_type": "code",
   "execution_count": 3,
   "metadata": {},
   "outputs": [],
   "source": [
    "df= pd.read_csv('data.csv')"
   ]
  },
  {
   "cell_type": "code",
   "execution_count": 4,
   "metadata": {},
   "outputs": [
    {
     "name": "stdout",
     "output_type": "stream",
     "text": [
      "<class 'pandas.core.frame.DataFrame'>\n",
      "RangeIndex: 148517 entries, 0 to 148516\n",
      "Data columns (total 43 columns):\n",
      " #   Column                  Non-Null Count   Dtype  \n",
      "---  ------                  --------------   -----  \n",
      " 0   Duration                148517 non-null  int64  \n",
      " 1   ProtocolType            148517 non-null  object \n",
      " 2   Service                 148517 non-null  object \n",
      " 3   Flag                    148517 non-null  object \n",
      " 4   SourceBytes             148517 non-null  int64  \n",
      " 5   DestinationBytes        148517 non-null  int64  \n",
      " 6   Land                    148517 non-null  int64  \n",
      " 7   WrongFragment           148517 non-null  int64  \n",
      " 8   Urgent                  148517 non-null  int64  \n",
      " 9   Hot                     148517 non-null  int64  \n",
      " 10  NumFailedLogins         148517 non-null  int64  \n",
      " 11  LoggedIn                148517 non-null  int64  \n",
      " 12  NumCompromised          148517 non-null  int64  \n",
      " 13  RootShell               148517 non-null  int64  \n",
      " 14  SuAttempted             148517 non-null  int64  \n",
      " 15  NumRoot                 148517 non-null  int64  \n",
      " 16  NumFileCreations        148517 non-null  int64  \n",
      " 17  NumShells               148517 non-null  int64  \n",
      " 18  NumAccessFiles          148517 non-null  int64  \n",
      " 19  NumOutboundCmds         148517 non-null  int64  \n",
      " 20  IsHostLogin             148517 non-null  int64  \n",
      " 21  IsGuestLogin            148517 non-null  int64  \n",
      " 22  Count                   148517 non-null  int64  \n",
      " 23  SrvCount                148517 non-null  int64  \n",
      " 24  SerrorRate              148517 non-null  float64\n",
      " 25  SrvSerrorRate           148517 non-null  float64\n",
      " 26  RerrorRate              148517 non-null  float64\n",
      " 27  SrvRerrorRate           148517 non-null  float64\n",
      " 28  SameSrvRate             148517 non-null  float64\n",
      " 29  DiffSrvRate             148517 non-null  float64\n",
      " 30  SrvDiffHostRate         148517 non-null  float64\n",
      " 31  DstHostCount            148517 non-null  int64  \n",
      " 32  DstHostSrvCount         148517 non-null  int64  \n",
      " 33  DstHostSameSrvRate      148517 non-null  float64\n",
      " 34  DstHostDiffSrvRate      148517 non-null  float64\n",
      " 35  DstHostSameSrcPortRate  148517 non-null  float64\n",
      " 36  DstHostSrvDiffHostRate  148517 non-null  float64\n",
      " 37  DstHostSerrorRate       148517 non-null  float64\n",
      " 38  DstHostSrvSerrorRate    148517 non-null  float64\n",
      " 39  DstHostRerrorRate       148517 non-null  float64\n",
      " 40  DstHostSrvRerrorRate    148517 non-null  float64\n",
      " 41  AttackType              148517 non-null  object \n",
      " 42  DifficultyLevel         148517 non-null  int64  \n",
      "dtypes: float64(15), int64(24), object(4)\n",
      "memory usage: 48.7+ MB\n"
     ]
    }
   ],
   "source": [
    "df.info()"
   ]
  },
  {
   "cell_type": "markdown",
   "metadata": {},
   "source": []
  }
 ],
 "metadata": {
  "kernelspec": {
   "display_name": "base",
   "language": "python",
   "name": "python3"
  },
  "language_info": {
   "codemirror_mode": {
    "name": "ipython",
    "version": 3
   },
   "file_extension": ".py",
   "mimetype": "text/x-python",
   "name": "python",
   "nbconvert_exporter": "python",
   "pygments_lexer": "ipython3",
   "version": "3.10.9"
  },
  "orig_nbformat": 4
 },
 "nbformat": 4,
 "nbformat_minor": 2
}
